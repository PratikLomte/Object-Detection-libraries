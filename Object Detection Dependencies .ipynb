{
 "cells": [
  {
   "cell_type": "code",
   "execution_count": null,
   "id": "6e366261",
   "metadata": {},
   "outputs": [],
   "source": [
    "pip install tensorflow==2.4.0\n",
    "pip install keras==2.4.3 \n",
    "pip install numpy==1.19.3 \n",
    "pip install pillow==7.0.0 \n",
    "pip install scipy==1.4.1 \n",
    "pip install h5py==2.10.0 \n",
    "pip install matplotlib==3.3.2\n",
    "pip install opencv-python \n",
    "pip install keras-resnet==0.2.0\n"
   ]
  }
 ],
 "metadata": {
  "kernelspec": {
   "display_name": "Python 3",
   "language": "python",
   "name": "python3"
  },
  "language_info": {
   "codemirror_mode": {
    "name": "ipython",
    "version": 3
   },
   "file_extension": ".py",
   "mimetype": "text/x-python",
   "name": "python",
   "nbconvert_exporter": "python",
   "pygments_lexer": "ipython3",
   "version": "3.8.8"
  }
 },
 "nbformat": 4,
 "nbformat_minor": 5
}
